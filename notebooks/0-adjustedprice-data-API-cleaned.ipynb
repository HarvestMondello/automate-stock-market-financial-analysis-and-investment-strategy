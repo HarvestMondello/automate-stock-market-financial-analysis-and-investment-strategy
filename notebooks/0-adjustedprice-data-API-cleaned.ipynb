{
 "cells": [
  {
   "cell_type": "code",
   "execution_count": 40,
   "id": "b4b0fb17",
   "metadata": {},
   "outputs": [
    {
     "name": "stdout",
     "output_type": "stream",
     "text": [
      "Modules imported.\n"
     ]
    }
   ],
   "source": [
    "#import modules\n",
    "import numpy as np\n",
    "import pandas as pd\n",
    "import glob\n",
    "import os\n",
    " #https://www.geeksforgeeks.org/how-to-install-yfinance-with-python-pip/\n",
    "#anaconda promp: python --version, pip --version, pip install yfinance\n",
    "import yfinance as yf\n",
    "import datetime\n",
    "from datetime import datetime, timezone\n",
    "print(\"Modules imported.\")"
   ]
  },
  {
   "cell_type": "code",
   "execution_count": 41,
   "id": "4097a9a4",
   "metadata": {},
   "outputs": [
    {
     "data": {
      "text/html": [
       "<div>\n",
       "<style scoped>\n",
       "    .dataframe tbody tr th:only-of-type {\n",
       "        vertical-align: middle;\n",
       "    }\n",
       "\n",
       "    .dataframe tbody tr th {\n",
       "        vertical-align: top;\n",
       "    }\n",
       "\n",
       "    .dataframe thead th {\n",
       "        text-align: right;\n",
       "    }\n",
       "</style>\n",
       "<table border=\"1\" class=\"dataframe\">\n",
       "  <thead>\n",
       "    <tr style=\"text-align: right;\">\n",
       "      <th></th>\n",
       "      <th>Symbol</th>\n",
       "      <th>Security</th>\n",
       "      <th>GICS Sector</th>\n",
       "      <th>GICS Sub-Industry</th>\n",
       "      <th>Headquarters Location</th>\n",
       "      <th>Date added</th>\n",
       "      <th>CIK</th>\n",
       "      <th>Founded</th>\n",
       "    </tr>\n",
       "  </thead>\n",
       "  <tbody>\n",
       "    <tr>\n",
       "      <th>0</th>\n",
       "      <td>MMM</td>\n",
       "      <td>3M</td>\n",
       "      <td>Industrials</td>\n",
       "      <td>Industrial Conglomerates</td>\n",
       "      <td>Saint Paul, Minnesota</td>\n",
       "      <td>1957-03-04</td>\n",
       "      <td>66740</td>\n",
       "      <td>1902</td>\n",
       "    </tr>\n",
       "    <tr>\n",
       "      <th>1</th>\n",
       "      <td>AOS</td>\n",
       "      <td>A. O. Smith</td>\n",
       "      <td>Industrials</td>\n",
       "      <td>Building Products</td>\n",
       "      <td>Milwaukee, Wisconsin</td>\n",
       "      <td>2017-07-26</td>\n",
       "      <td>91142</td>\n",
       "      <td>1916</td>\n",
       "    </tr>\n",
       "    <tr>\n",
       "      <th>2</th>\n",
       "      <td>ABT</td>\n",
       "      <td>Abbott Laboratories</td>\n",
       "      <td>Health Care</td>\n",
       "      <td>Health Care Equipment</td>\n",
       "      <td>North Chicago, Illinois</td>\n",
       "      <td>1957-03-04</td>\n",
       "      <td>1800</td>\n",
       "      <td>1888</td>\n",
       "    </tr>\n",
       "  </tbody>\n",
       "</table>\n",
       "</div>"
      ],
      "text/plain": [
       "  Symbol             Security  GICS Sector         GICS Sub-Industry  \\\n",
       "0    MMM                   3M  Industrials  Industrial Conglomerates   \n",
       "1    AOS          A. O. Smith  Industrials         Building Products   \n",
       "2    ABT  Abbott Laboratories  Health Care     Health Care Equipment   \n",
       "\n",
       "     Headquarters Location  Date added    CIK Founded  \n",
       "0    Saint Paul, Minnesota  1957-03-04  66740    1902  \n",
       "1     Milwaukee, Wisconsin  2017-07-26  91142    1916  \n",
       "2  North Chicago, Illinois  1957-03-04   1800    1888  "
      ]
     },
     "execution_count": 41,
     "metadata": {},
     "output_type": "execute_result"
    }
   ],
   "source": [
    "#Step 1\n",
    "#major financial indicies: web scrape this from the below website\n",
    "sp_500 = pd.read_html(\"https://en.wikipedia.org/wiki/List_of_S%26P_500_companies\")[0]\n",
    "sp_500.head(3)"
   ]
  },
  {
   "cell_type": "code",
   "execution_count": 42,
   "id": "df3b3007",
   "metadata": {},
   "outputs": [
    {
     "name": "stdout",
     "output_type": "stream",
     "text": [
      "['MMM', 'AOS', 'ABT', 'ABBV', 'ACN', 'ADBE', 'AMD', 'AES', 'AFL', 'A', 'APD', 'ABNB', 'AKAM', 'ALB', 'ARE', 'ALGN', 'ALLE', 'LNT', 'ALL', 'GOOGL', 'GOOG', 'MO', 'AMZN', 'AMCR', 'AEE', 'AEP', 'AXP', 'AIG', 'AMT', 'AWK', 'AMP', 'AME', 'AMGN', 'APH', 'ADI', 'ANSS', 'AON', 'APA', 'APO', 'AAPL', 'AMAT', 'APTV', 'ACGL', 'ADM', 'ANET', 'AJG', 'AIZ', 'T', 'ATO', 'ADSK', 'ADP', 'AZO', 'AVB', 'AVY', 'AXON', 'BKR', 'BALL', 'BAC', 'BAX', 'BDX', 'BRK-B', 'BBY', 'TECH', 'BIIB', 'BLK', 'BX', 'BK', 'BA', 'BKNG', 'BWA', 'BSX', 'BMY', 'AVGO', 'BR', 'BRO', 'BF-B', 'BLDR', 'BG', 'BXP', 'CHRW', 'CDNS', 'CZR', 'CPT', 'CPB', 'COF', 'CAH', 'KMX', 'CCL', 'CARR', 'CAT', 'CBOE', 'CBRE', 'CDW', 'CE', 'COR', 'CNC', 'CNP', 'CF', 'CRL', 'SCHW', 'CHTR', 'CVX', 'CMG', 'CB', 'CHD', 'CI', 'CINF', 'CTAS', 'CSCO', 'C', 'CFG', 'CLX', 'CME', 'CMS', 'KO', 'CTSH', 'CL', 'CMCSA', 'CAG', 'COP', 'ED', 'STZ', 'CEG', 'COO', 'CPRT', 'GLW', 'CPAY', 'CTVA', 'CSGP', 'COST', 'CTRA', 'CRWD', 'CCI', 'CSX', 'CMI', 'CVS', 'DHR', 'DRI', 'DVA', 'DAY', 'DECK', 'DE', 'DELL', 'DAL', 'DVN', 'DXCM', 'FANG', 'DLR', 'DFS', 'DG', 'DLTR', 'D', 'DPZ', 'DOV', 'DOW', 'DHI', 'DTE', 'DUK', 'DD', 'EMN', 'ETN', 'EBAY', 'ECL', 'EIX', 'EW', 'EA', 'ELV', 'EMR', 'ENPH', 'ETR', 'EOG', 'EPAM', 'EQT', 'EFX', 'EQIX', 'EQR', 'ERIE', 'ESS', 'EL', 'EG', 'EVRG', 'ES', 'EXC', 'EXPE', 'EXPD', 'EXR', 'XOM', 'FFIV', 'FDS', 'FICO', 'FAST', 'FRT', 'FDX', 'FIS', 'FITB', 'FSLR', 'FE', 'FI', 'FMC', 'F', 'FTNT', 'FTV', 'FOXA', 'FOX', 'BEN', 'FCX', 'GRMN', 'IT', 'GE', 'GEHC', 'GEV', 'GEN', 'GNRC', 'GD', 'GIS', 'GM', 'GPC', 'GILD', 'GPN', 'GL', 'GDDY', 'GS', 'HAL', 'HIG', 'HAS', 'HCA', 'DOC', 'HSIC', 'HSY', 'HES', 'HPE', 'HLT', 'HOLX', 'HD', 'HON', 'HRL', 'HST', 'HWM', 'HPQ', 'HUBB', 'HUM', 'HBAN', 'HII', 'IBM', 'IEX', 'IDXX', 'ITW', 'INCY', 'IR', 'PODD', 'INTC', 'ICE', 'IFF', 'IP', 'IPG', 'INTU', 'ISRG', 'IVZ', 'INVH', 'IQV', 'IRM', 'JBHT', 'JBL', 'JKHY', 'J', 'JNJ', 'JCI', 'JPM', 'JNPR', 'K', 'KVUE', 'KDP', 'KEY', 'KEYS', 'KMB', 'KIM', 'KMI', 'KKR', 'KLAC', 'KHC', 'KR', 'LHX', 'LH', 'LRCX', 'LW', 'LVS', 'LDOS', 'LEN', 'LII', 'LLY', 'LIN', 'LYV', 'LKQ', 'LMT', 'L', 'LOW', 'LULU', 'LYB', 'MTB', 'MPC', 'MKTX', 'MAR', 'MMC', 'MLM', 'MAS', 'MA', 'MTCH', 'MKC', 'MCD', 'MCK', 'MDT', 'MRK', 'META', 'MET', 'MTD', 'MGM', 'MCHP', 'MU', 'MSFT', 'MAA', 'MRNA', 'MHK', 'MOH', 'TAP', 'MDLZ', 'MPWR', 'MNST', 'MCO', 'MS', 'MOS', 'MSI', 'MSCI', 'NDAQ', 'NTAP', 'NFLX', 'NEM', 'NWSA', 'NWS', 'NEE', 'NKE', 'NI', 'NDSN', 'NSC', 'NTRS', 'NOC', 'NCLH', 'NRG', 'NUE', 'NVDA', 'NVR', 'NXPI', 'ORLY', 'OXY', 'ODFL', 'OMC', 'ON', 'OKE', 'ORCL', 'OTIS', 'PCAR', 'PKG', 'PLTR', 'PANW', 'PARA', 'PH', 'PAYX', 'PAYC', 'PYPL', 'PNR', 'PEP', 'PFE', 'PCG', 'PM', 'PSX', 'PNW', 'PNC', 'POOL', 'PPG', 'PPL', 'PFG', 'PG', 'PGR', 'PLD', 'PRU', 'PEG', 'PTC', 'PSA', 'PHM', 'PWR', 'QCOM', 'DGX', 'RL', 'RJF', 'RTX', 'O', 'REG', 'REGN', 'RF', 'RSG', 'RMD', 'RVTY', 'ROK', 'ROL', 'ROP', 'ROST', 'RCL', 'SPGI', 'CRM', 'SBAC', 'SLB', 'STX', 'SRE', 'NOW', 'SHW', 'SPG', 'SWKS', 'SJM', 'SW', 'SNA', 'SOLV', 'SO', 'LUV', 'SWK', 'SBUX', 'STT', 'STLD', 'STE', 'SYK', 'SMCI', 'SYF', 'SNPS', 'SYY', 'TMUS', 'TROW', 'TTWO', 'TPR', 'TRGP', 'TGT', 'TEL', 'TDY', 'TFX', 'TER', 'TSLA', 'TXN', 'TPL', 'TXT', 'TMO', 'TJX', 'TSCO', 'TT', 'TDG', 'TRV', 'TRMB', 'TFC', 'TYL', 'TSN', 'USB', 'UBER', 'UDR', 'ULTA', 'UNP', 'UAL', 'UPS', 'URI', 'UNH', 'UHS', 'VLO', 'VTR', 'VLTO', 'VRSN', 'VRSK', 'VZ', 'VRTX', 'VTRS', 'VICI', 'V', 'VST', 'VMC', 'WRB', 'GWW', 'WAB', 'WBA', 'WMT', 'DIS', 'WBD', 'WM', 'WAT', 'WEC', 'WFC', 'WELL', 'WST', 'WDC', 'WY', 'WMB', 'WTW', 'WDAY', 'WYNN', 'XEL', 'XYL', 'YUM', 'ZBRA', 'ZBH', 'ZTS']\n"
     ]
    }
   ],
   "source": [
    "#SP500 ticker symbol list from wikipedia\n",
    "#replace . with - format of stock tickers\n",
    "#see: https://en.wikipedia.org/wiki/List_of_S%26P_500_companies\n",
    "ticker_list = sp_500['Symbol'].str.replace(\".\", \"-\").str.upper().to_list() #for yfinance\n",
    "print(ticker_list)"
   ]
  },
  {
   "cell_type": "code",
   "execution_count": 43,
   "id": "53287ef9",
   "metadata": {},
   "outputs": [
    {
     "data": {
      "text/plain": [
       "503"
      ]
     },
     "execution_count": 43,
     "metadata": {},
     "output_type": "execute_result"
    }
   ],
   "source": [
    "tickerData = yf.Tickers(ticker_list)\n",
    "tickerData\n",
    "len(ticker_list)"
   ]
  },
  {
   "cell_type": "code",
   "execution_count": 44,
   "id": "96765173",
   "metadata": {},
   "outputs": [
    {
     "data": {
      "text/plain": [
       "526"
      ]
     },
     "execution_count": 44,
     "metadata": {},
     "output_type": "execute_result"
    }
   ],
   "source": [
    "#add tickers using .append to add elements at last index.\n",
    "ticker_list.append(\"SPY\")\n",
    "ticker_list.append(\"DIA\")\n",
    "ticker_list.append(\"QQQ\")\n",
    "ticker_list.append(\"VTI\")\n",
    "ticker_list.append(\"IVOO\")\n",
    "ticker_list.append(\"VIOO\")\n",
    "ticker_list.append(\"IWM\")\n",
    "ticker_list.append(\"VXUS\")\n",
    "ticker_list.append(\"VTV\") #BRK.B, JPMChase, Mastercard, Visa, ect\n",
    "ticker_list.append(\"BND\")\n",
    "ticker_list.append(\"VTIP\")\n",
    "ticker_list.append(\"BRK-A\") \n",
    "ticker_list.append(\"VDC\") \n",
    "ticker_list.append(\"VFH\") #BRK.B, JPMChase, Mastercard, Visa, ect\n",
    "ticker_list.append(\"VPU\") \n",
    "ticker_list.append(\"VIS\") \n",
    "ticker_list.append(\"VHT\") \n",
    "ticker_list.append(\"VAW\") \n",
    "ticker_list.append(\"VDE\") #Exon, Chevron, ect\n",
    "ticker_list.append(\"VDE\") \n",
    "ticker_list.append(\"VGT\") #APPLE, MSFT, NVIDIA, ect\n",
    "ticker_list.append(\"VOX\")  #Alphabet, Meta, Netflix, ect\n",
    "ticker_list.append(\"VCR\")  #Amazon, Tesla, ect\n",
    "len(ticker_list)"
   ]
  },
  {
   "cell_type": "code",
   "execution_count": null,
   "id": "68b0ba0b",
   "metadata": {},
   "outputs": [
    {
     "name": "stdout",
     "output_type": "stream",
     "text": [
      "2025-03-07\n"
     ]
    },
    {
     "name": "stderr",
     "output_type": "stream",
     "text": [
      "[*********************100%***********************]  525 of 525 completed\n",
      "\n",
      "1 Failed download:\n",
      "['HWM']: YFPricesMissingError('possibly delisted; no price data found  (1d 1962-01-01 -> 2025-03-07)')\n"
     ]
    },
    {
     "name": "stdout",
     "output_type": "stream",
     "text": [
      "SP500 ticker list has been stored with current price data and dividends to df.\n",
      "[['Adj Close', 'Capital Gains', 'Close', 'Dividends', 'High', 'Low', 'Open', 'Stock Splits', 'Volume'], ['A', 'AAPL', 'ABBV', 'ABNB', 'ABT', 'ACGL', 'ACN', 'ADBE', 'ADI', 'ADM', 'ADP', 'ADSK', 'AEE', 'AEP', 'AES', 'AFL', 'AIG', 'AIZ', 'AJG', 'AKAM', 'ALB', 'ALGN', 'ALL', 'ALLE', 'AMAT', 'AMCR', 'AMD', 'AME', 'AMGN', 'AMP', 'AMT', 'AMZN', 'ANET', 'ANSS', 'AON', 'AOS', 'APA', 'APD', 'APH', 'APO', 'APTV', 'ARE', 'ATO', 'AVB', 'AVGO', 'AVY', 'AWK', 'AXON', 'AXP', 'AZO', 'BA', 'BAC', 'BALL', 'BAX', 'BBY', 'BDX', 'BEN', 'BF-B', 'BG', 'BIIB', 'BK', 'BKNG', 'BKR', 'BLDR', 'BLK', 'BMY', 'BND', 'BR', 'BRK-A', 'BRK-B', 'BRO', 'BSX', 'BWA', 'BX', 'BXP', 'C', 'CAG', 'CAH', 'CARR', 'CAT', 'CB', 'CBOE', 'CBRE', 'CCI', 'CCL', 'CDNS', 'CDW', 'CE', 'CEG', 'CF', 'CFG', 'CHD', 'CHRW', 'CHTR', 'CI', 'CINF', 'CL', 'CLX', 'CMCSA', 'CME', ...]]\n"
     ]
    }
   ],
   "source": [
    "#get price data from yfinance, status bar is nice\n",
    "#note this can go back to 1962, ~3 minutes to pull all data including adjusted close (ie close+dividends).\n",
    "\n",
    "#create today variable\n",
    "Today = datetime.now().strftime(\"%Y-%m-%d\")\n",
    "print(Today)\n",
    "\n",
    "# Download Close prices and Dividends, 1962-current\n",
    "df = yf.download(ticker_list, period=\"max\", start=\"1962-01-01\", end=Today, actions=True) #auto_adjust=True is the default for Close, ie Close+Dividends\n",
    "# df_prices = yf.download(ticker_list, period=\"max\", start=\"2025-3-07\", end=Today, actions=True)\n",
    "\n",
    "print(\"SP500 ticker list has been stored with current price data and dividends to df.\")\n",
    "print(df.columns.levels)"
   ]
  },
  {
   "cell_type": "code",
   "execution_count": 55,
   "id": "ecdf35ca",
   "metadata": {},
   "outputs": [
    {
     "name": "stdout",
     "output_type": "stream",
     "text": [
      "['Date', 'Stock_ticker', 'Close', 'Dividends', 'Capital_Gains']\n",
      "['Date', 'Stock_ticker', 'Close', 'Dividends', 'Capital_Gains']\n"
     ]
    }
   ],
   "source": [
    "# Extract Close prices, Dividends, and Capital Gains\n",
    "df_close = df.xs(\"Close\", axis=1, level=0, drop_level=True)\n",
    "df_dividends = df.xs(\"Dividends\", axis=1, level=0, drop_level=True)\n",
    "\n",
    "# Check if 'Capital Gains' exists\n",
    "if \"Capital Gains\" in df.columns.levels[0]:\n",
    "    df_capital_gains = df.xs(\"Capital Gains\", axis=1, level=0, drop_level=True)\n",
    "else:\n",
    "    df_capital_gains = pd.DataFrame(0, index=df.index, columns=df_close.columns)  # Fill with 0 if missing\n",
    "\n",
    "# Compute Adjusted Close: Adjust past Close prices for future dividends and capital gains\n",
    "df_adj_close = df_close[::-1].cumsum() - df_dividends[::-1].cumsum() - df_capital_gains[::-1].cumsum()  \n",
    "df_adj_close = df_adj_close[::-1]  # Flip back\n",
    "\n",
    "# Reset index and melt data for long format\n",
    "df_adj_close = df_adj_close.reset_index().melt(id_vars=\"Date\", var_name=\"Ticker\", value_name=\"Adjusted_Close\")\n",
    "\n",
    "# Melt other columns for consistency\n",
    "df_close = df_close.reset_index().melt(id_vars=\"Date\", var_name=\"Ticker\", value_name=\"Close\")\n",
    "df_dividends = df_dividends.reset_index().melt(id_vars=\"Date\", var_name=\"Ticker\", value_name=\"Dividends\")\n",
    "df_capital_gains = df_capital_gains.reset_index().melt(id_vars=\"Date\", var_name=\"Ticker\", value_name=\"Capital_Gains\")\n",
    "\n",
    "# Merge all into a final DataFrame\n",
    "df_final = (\n",
    "    df_adj_close\n",
    "    .merge(df_close, on=[\"Date\", \"Ticker\"], how=\"left\")\n",
    "    .merge(df_dividends, on=[\"Date\", \"Ticker\"], how=\"left\")\n",
    "    .merge(df_capital_gains, on=[\"Date\", \"Ticker\"], how=\"left\")\n",
    ")\n",
    "\n",
    "# Convert Date to 'date' format instead of datetime\n",
    "df_final[\"Date\"] = df_final[\"Date\"].dt.date\n",
    "\n",
    "#rename Ticker to Stock_ticker\n",
    "df_final.rename(columns={'Ticker': 'Stock_ticker'}, inplace=True)\n",
    "\n",
    "df_final.drop(columns=[\"Adjusted_Close\"], inplace=True)\n",
    "print(df_final.columns.tolist())\n",
    "\n",
    "# Display the first few rows\n",
    "\n",
    "print(df_final.columns.tolist())\n"
   ]
  },
  {
   "cell_type": "code",
   "execution_count": 56,
   "id": "f76a809e",
   "metadata": {},
   "outputs": [
    {
     "name": "stdout",
     "output_type": "stream",
     "text": [
      "         Date Stock_ticker  Close  Dividends  Capital_Gains\n",
      "0  1962-01-02            A    NaN        NaN            NaN\n",
      "1  1962-01-03            A    NaN        NaN            NaN\n",
      "2  1962-01-04            A    NaN        NaN            NaN\n",
      "3  1962-01-05            A    NaN        NaN            NaN\n",
      "4  1962-01-08            A    NaN        NaN            NaN\n"
     ]
    }
   ],
   "source": [
    "print(df_final.head())"
   ]
  },
  {
   "cell_type": "code",
   "execution_count": 57,
   "id": "52800fa8",
   "metadata": {},
   "outputs": [
    {
     "data": {
      "text/html": [
       "<div>\n",
       "<style scoped>\n",
       "    .dataframe tbody tr th:only-of-type {\n",
       "        vertical-align: middle;\n",
       "    }\n",
       "\n",
       "    .dataframe tbody tr th {\n",
       "        vertical-align: top;\n",
       "    }\n",
       "\n",
       "    .dataframe thead th {\n",
       "        text-align: right;\n",
       "    }\n",
       "</style>\n",
       "<table border=\"1\" class=\"dataframe\">\n",
       "  <thead>\n",
       "    <tr style=\"text-align: right;\">\n",
       "      <th></th>\n",
       "      <th>Date</th>\n",
       "      <th>Stock_ticker</th>\n",
       "      <th>Close</th>\n",
       "      <th>Dividends</th>\n",
       "      <th>Capital_Gains</th>\n",
       "    </tr>\n",
       "  </thead>\n",
       "  <tbody>\n",
       "    <tr>\n",
       "      <th>8348022</th>\n",
       "      <td>2025-03-04</td>\n",
       "      <td>ZTS</td>\n",
       "      <td>169.899994</td>\n",
       "      <td>0.0</td>\n",
       "      <td>NaN</td>\n",
       "    </tr>\n",
       "    <tr>\n",
       "      <th>8348023</th>\n",
       "      <td>2025-03-05</td>\n",
       "      <td>ZTS</td>\n",
       "      <td>167.000000</td>\n",
       "      <td>0.0</td>\n",
       "      <td>NaN</td>\n",
       "    </tr>\n",
       "    <tr>\n",
       "      <th>8348024</th>\n",
       "      <td>2025-03-06</td>\n",
       "      <td>ZTS</td>\n",
       "      <td>167.250000</td>\n",
       "      <td>0.0</td>\n",
       "      <td>NaN</td>\n",
       "    </tr>\n",
       "  </tbody>\n",
       "</table>\n",
       "</div>"
      ],
      "text/plain": [
       "               Date Stock_ticker       Close  Dividends  Capital_Gains\n",
       "8348022  2025-03-04          ZTS  169.899994        0.0            NaN\n",
       "8348023  2025-03-05          ZTS  167.000000        0.0            NaN\n",
       "8348024  2025-03-06          ZTS  167.250000        0.0            NaN"
      ]
     },
     "execution_count": 57,
     "metadata": {},
     "output_type": "execute_result"
    }
   ],
   "source": [
    "df_final.tail(3)"
   ]
  },
  {
   "cell_type": "code",
   "execution_count": 58,
   "id": "400458ba",
   "metadata": {},
   "outputs": [
    {
     "name": "stdout",
     "output_type": "stream",
     "text": [
      "Date              object\n",
      "Stock_ticker      object\n",
      "Close            float64\n",
      "Dividends        float64\n",
      "Capital_Gains    float64\n",
      "dtype: object\n"
     ]
    }
   ],
   "source": [
    "#show data types\n",
    "print(df_final.dtypes)"
   ]
  },
  {
   "cell_type": "code",
   "execution_count": 59,
   "id": "33748567",
   "metadata": {},
   "outputs": [
    {
     "data": {
      "text/plain": [
       "Index(['Date', 'Stock_ticker', 'Close', 'Dividends', 'Capital_Gains'], dtype='object')"
      ]
     },
     "execution_count": 59,
     "metadata": {},
     "output_type": "execute_result"
    }
   ],
   "source": [
    "df_final.columns "
   ]
  },
  {
   "cell_type": "code",
   "execution_count": 60,
   "id": "63154086",
   "metadata": {},
   "outputs": [
    {
     "name": "stdout",
     "output_type": "stream",
     "text": [
      "(8348025, 5)\n"
     ]
    }
   ],
   "source": [
    "print(df_final.shape)"
   ]
  },
  {
   "cell_type": "code",
   "execution_count": 61,
   "id": "f2bf6fd7",
   "metadata": {},
   "outputs": [
    {
     "name": "stdout",
     "output_type": "stream",
     "text": [
      "Current date:  2025-03-07 08-57-19\n",
      "See new CSV output file\n",
      "File created :  tickerlist-2025-03-07 08-57-19.csv\n"
     ]
    }
   ],
   "source": [
    "#current date\n",
    "#https://www.geeksforgeeks.org/how-to-create-filename-containing-date-or-time-in-python/\n",
    "# get current date and time using: datetime.now().strftime(\"%Y-%m-%d %H-%M-%S\")\n",
    "current_datetime = datetime.now().strftime(\"%Y-%m-%d %H-%M-%S\")\n",
    "print(\"Current date: \", current_datetime)\n",
    " \n",
    "# convert datetime obj to string\n",
    "str_current_datetime = str(current_datetime)\n",
    "\n",
    "\n",
    "\n",
    "#output df to a new csv file \n",
    "df_final.to_csv(\"stock-prices-dividends-\"+ str_current_datetime +\".csv\", index=False)\n",
    "print(\"See new CSV output file\")\n",
    "\n",
    "##output df to a new csv file ie ticker list with adjusted close from above dates\n",
    "#df.to_csv(\"SP500_\"+ str_current_datetime +\".csv\")\n",
    "print(\"File created : \", \"tickerlist-\"+ str_current_datetime +\".csv\")\n"
   ]
  },
  {
   "cell_type": "code",
   "execution_count": 62,
   "id": "03c1f9b7",
   "metadata": {},
   "outputs": [
    {
     "data": {
      "text/plain": [
       "['SP500_tickerNames_price_Shares_out_EPS_current_date - SP500Plus.csv',\n",
       " 'stock-prices-dividends-2025-03-07 08-57-19.csv',\n",
       " 'ticker_and_names.csv',\n",
       " 'united-states.inflation.monthly (usinflationcalculator.com).csv']"
      ]
     },
     "execution_count": 62,
     "metadata": {},
     "output_type": "execute_result"
    }
   ],
   "source": [
    "#show local csv list\n",
    "glob.glob('*.csv')"
   ]
  }
 ],
 "metadata": {
  "kernelspec": {
   "display_name": "base",
   "language": "python",
   "name": "python3"
  },
  "language_info": {
   "codemirror_mode": {
    "name": "ipython",
    "version": 3
   },
   "file_extension": ".py",
   "mimetype": "text/x-python",
   "name": "python",
   "nbconvert_exporter": "python",
   "pygments_lexer": "ipython3",
   "version": "3.12.4"
  }
 },
 "nbformat": 4,
 "nbformat_minor": 5
}
